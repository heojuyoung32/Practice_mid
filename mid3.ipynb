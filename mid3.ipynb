{
  "nbformat": 4,
  "nbformat_minor": 0,
  "metadata": {
    "colab": {
      "provenance": [],
      "authorship_tag": "ABX9TyO/PVblzg5FOXkAZ1fPdkIC",
      "include_colab_link": true
    },
    "kernelspec": {
      "name": "python3",
      "display_name": "Python 3"
    },
    "language_info": {
      "name": "python"
    }
  },
  "cells": [
    {
      "cell_type": "markdown",
      "metadata": {
        "id": "view-in-github",
        "colab_type": "text"
      },
      "source": [
        "<a href=\"https://colab.research.google.com/github/heojuyoung32/Practice_mid/blob/main/mid3.ipynb\" target=\"_parent\"><img src=\"https://colab.research.google.com/assets/colab-badge.svg\" alt=\"Open In Colab\"/></a>"
      ]
    },
    {
      "cell_type": "code",
      "execution_count": 1,
      "metadata": {
        "colab": {
          "base_uri": "https://localhost:8080/"
        },
        "id": "HbJujvuVSfe2",
        "outputId": "6c3d1e64-ebb0-4781-b87a-121f3fa37e65"
      },
      "outputs": [
        {
          "output_type": "stream",
          "name": "stdout",
          "text": [
            "Match: cat\n",
            "Match:  at\n",
            "Match: ,at\n",
            "Match: hat\n",
            "Match: bat\n",
            "Match: sat\n",
            "Match: mat\n",
            "Match: bat\n",
            "Match: bat\n"
          ]
        }
      ],
      "source": [
        "import re\n",
        "text2 = 'at, cat, at,at, hat, bat, sat, mat, combat, unbated'\n",
        "pattern = r'.at'\n",
        "\n",
        "matches = re.findall(pattern, text2)\n",
        "\n",
        "for i in matches:\n",
        "  print('Match:', i)"
      ]
    },
    {
      "cell_type": "code",
      "source": [
        "import re\n",
        "text = 'color, colour, or coloer?'\n",
        "pattern = r'coloe?r'\n",
        "\n",
        "matches = re.findall(pattern, text)\n",
        "\n",
        "for i in matches:\n",
        "  print('Match:', i)\n"
      ],
      "metadata": {
        "colab": {
          "base_uri": "https://localhost:8080/"
        },
        "id": "lyxoW1VdSowY",
        "outputId": "1e9b808a-52a4-46ac-fa3b-6eed39863233"
      },
      "execution_count": 2,
      "outputs": [
        {
          "output_type": "stream",
          "name": "stdout",
          "text": [
            "Match: color\n",
            "Match: coloer\n"
          ]
        }
      ]
    },
    {
      "cell_type": "code",
      "source": [
        "import re\n",
        "text = 'ab, ac, abc, abbc, aabbc, abbbbbbbbbbbbbbbc, abkc, abhc'\n",
        "pattern = r'ab*c'\n",
        "\n",
        "matches = re.findall(pattern, text)\n",
        "\n",
        "for i in matches:\n",
        "  print('Match:', i)\n",
        ""
      ],
      "metadata": {
        "colab": {
          "base_uri": "https://localhost:8080/"
        },
        "id": "sL-k65PdSyA-",
        "outputId": "17201045-3c0a-4584-c75d-e1531dfe594a"
      },
      "execution_count": 3,
      "outputs": [
        {
          "output_type": "stream",
          "name": "stdout",
          "text": [
            "Match: ac\n",
            "Match: abc\n",
            "Match: abbc\n",
            "Match: abbc\n",
            "Match: abbbbbbbbbbbbbbbc\n"
          ]
        }
      ]
    },
    {
      "cell_type": "code",
      "source": [
        "import re\n",
        "text = 'cat, caat, caaat, caot, sat, set'\n",
        "pattern = r'ca+t'\n",
        "\n",
        "matches = re.findall(pattern, text)\n",
        "\n",
        "for i in matches:\n",
        "  print('Match:', i)"
      ],
      "metadata": {
        "colab": {
          "base_uri": "https://localhost:8080/"
        },
        "id": "txRIDkGNS2vm",
        "outputId": "2b39858f-fdec-4c31-9d02-38b179e4296c"
      },
      "execution_count": 4,
      "outputs": [
        {
          "output_type": "stream",
          "name": "stdout",
          "text": [
            "Match: cat\n",
            "Match: caat\n",
            "Match: caaat\n"
          ]
        }
      ]
    },
    {
      "cell_type": "code",
      "source": [
        "import re\n",
        "text = 'Python is a popular programing language. Python is verstile.'\n",
        "pattern = r'verstile.$'\n",
        "\n",
        "matches = re.findall(pattern, text)\n",
        "\n",
        "for i in matches:\n",
        "    print(\"Match:\", i)"
      ],
      "metadata": {
        "colab": {
          "base_uri": "https://localhost:8080/"
        },
        "id": "U4FvfBJ4S6wE",
        "outputId": "6f60b226-30d8-41c3-e55b-92c8a2fd12c4"
      },
      "execution_count": 5,
      "outputs": [
        {
          "output_type": "stream",
          "name": "stdout",
          "text": [
            "Match: verstile.\n"
          ]
        }
      ]
    },
    {
      "cell_type": "code",
      "source": [
        "import re\n",
        "text = \"Python is a programming language. Python is versatile. We all love Python.\"\n",
        "pattern = r'^Python'\n",
        "\n",
        "matches = re.findall(pattern, text)\n",
        "\n",
        "for i in matches:\n",
        "    print(\"Match:\", i)"
      ],
      "metadata": {
        "colab": {
          "base_uri": "https://localhost:8080/"
        },
        "id": "gqPxK4biS-_d",
        "outputId": "99d025de-69b2-46f7-d172-942a6b5a26d9"
      },
      "execution_count": 6,
      "outputs": [
        {
          "output_type": "stream",
          "name": "stdout",
          "text": [
            "Match: Python\n"
          ]
        }
      ]
    },
    {
      "cell_type": "code",
      "source": [
        "text = 'The price is $1005290.'\n",
        "pattern = r'[1234567890]'\n",
        "\n",
        "matches = re.findall(pattern, text)\n",
        "\n",
        "for i in matches:\n",
        "  print('Match:', i)"
      ],
      "metadata": {
        "colab": {
          "base_uri": "https://localhost:8080/"
        },
        "id": "fYkbGZn6TEW5",
        "outputId": "fd8b830d-c2b0-412e-b036-2acf4515962d"
      },
      "execution_count": 7,
      "outputs": [
        {
          "output_type": "stream",
          "name": "stdout",
          "text": [
            "Match: 1\n",
            "Match: 0\n",
            "Match: 0\n",
            "Match: 5\n",
            "Match: 2\n",
            "Match: 9\n",
            "Match: 0\n"
          ]
        }
      ]
    },
    {
      "cell_type": "code",
      "source": [
        "import re\n",
        "text = '24 Hours a Day, 7 Days a Week, & 365 Days a Year!'\n",
        "pattern = r'[^0123456789]'\n",
        "\n",
        "matches = re.findall(pattern, text)\n",
        "\n",
        "for i in matches:\n",
        "    print(\"Match:\", i)"
      ],
      "metadata": {
        "colab": {
          "base_uri": "https://localhost:8080/"
        },
        "id": "uF3254lZTLEH",
        "outputId": "6f9e76f5-52c8-462b-e51e-7f20215ba4ca"
      },
      "execution_count": 8,
      "outputs": [
        {
          "output_type": "stream",
          "name": "stdout",
          "text": [
            "Match:  \n",
            "Match: H\n",
            "Match: o\n",
            "Match: u\n",
            "Match: r\n",
            "Match: s\n",
            "Match:  \n",
            "Match: a\n",
            "Match:  \n",
            "Match: D\n",
            "Match: a\n",
            "Match: y\n",
            "Match: ,\n",
            "Match:  \n",
            "Match:  \n",
            "Match: D\n",
            "Match: a\n",
            "Match: y\n",
            "Match: s\n",
            "Match:  \n",
            "Match: a\n",
            "Match:  \n",
            "Match: W\n",
            "Match: e\n",
            "Match: e\n",
            "Match: k\n",
            "Match: ,\n",
            "Match:  \n",
            "Match: &\n",
            "Match:  \n",
            "Match:  \n",
            "Match: D\n",
            "Match: a\n",
            "Match: y\n",
            "Match: s\n",
            "Match:  \n",
            "Match: a\n",
            "Match:  \n",
            "Match: Y\n",
            "Match: e\n",
            "Match: a\n",
            "Match: r\n",
            "Match: !\n"
          ]
        }
      ]
    }
  ]
}